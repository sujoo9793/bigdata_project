{
 "cells": [
  {
   "cell_type": "code",
   "execution_count": 6,
   "id": "dc12bbff",
   "metadata": {},
   "outputs": [],
   "source": [
    "import pandas as pd\n",
    "river_file_path = './River.xlsx'\n",
    "\n",
    "river_df = pd.ExcelFile(river_file_path).parse(header=1)\n",
    "\n",
    "mapping = {\n",
    "    '탄천_자동': '송파',\n",
    "    '중랑천_자동': '동대문',\n",
    "    '선유_자동': '영등포',\n",
    "    '안양천_자동': '구로',\n",
    "    '노량진_자동': '현충원'\n",
    "}\n",
    "\n",
    "\n",
    "river_df['측정소명'] = river_df['측정소명'].replace(mapping)\n",
    "\n",
    "\n",
    "\n",
    "updated_river_path = '/Users/jusuung/Desktop/주수웅/Updated_River_with_Mapping.xlsx'\n",
    "river_df.to_excel(updated_river_path, index=False)\n",
    "\n"
   ]
  },
  {
   "cell_type": "code",
   "execution_count": 7,
   "id": "7afc8c51",
   "metadata": {},
   "outputs": [
    {
     "name": "stdout",
     "output_type": "stream",
     "text": [
      "최종 파일이 저장되었습니다: /Users/jusuung/Desktop/주수웅/Final_Merged_Time_Corrected.xlsx\n"
     ]
    }
   ],
   "source": [
    "import pandas as pd\n",
    "\n",
    "\n",
    "temp_file_path = './Temp.xlsx'\n",
    "updated_river_file_path = './Updated_River_with_Mapping.xlsx'\n",
    "\n",
    "temp_df = pd.ExcelFile(temp_file_path).parse()\n",
    "updated_river_df = pd.ExcelFile(updated_river_file_path).parse()\n",
    "\n",
    "# 빈칸인 값들을 0으로 채움 (NaN(문자열)으로 인식하기 때문에)\n",
    "temp_df = temp_df.fillna(0)\n",
    "updated_river_df = updated_river_df.fillna(0)\n",
    "\n",
    "# '측정소명'을 '지점명'으로 변경\n",
    "updated_river_df = updated_river_df.rename(columns={'측정소명': '지점명'})\n",
    "\n",
    "# 시간 데이터 정리\n",
    "temp_df['일시'] = pd.to_datetime(temp_df['일시'])\n",
    "updated_river_df['시간'] = pd.to_datetime(updated_river_df['시간'], format='%H:%M:%S', errors='coerce')\n",
    "updated_river_df['일시'] = pd.to_datetime(updated_river_df['날짜'].astype(str) + ' ' + updated_river_df['시간'].dt.time.astype(str))\n",
    "\n",
    "# '지점명'과 '일시' 기준으로 병합\n",
    "merged_df = pd.merge(temp_df, updated_river_df, how='inner', on=['지점명', '일시'])\n",
    "\n",
    "# 결과를 시간 순으로 정렬 데이터 간 시간순이 역행 순행으로 되어있기 떄문\n",
    "merged_df = merged_df.sort_values(by='일시')\n",
    "\n",
    "#시간만 표시 보기편하게 해줌 \n",
    "\n",
    "if '시간' in merged_df.columns:\n",
    "    merged_df['시간'] = pd.to_datetime(merged_df['시간'], errors='coerce').dt.strftime('%H:%M:%S')\n",
    "\n",
    "# 결과 저장\n",
    "final_merged_path = '/Users/jusuung/Desktop/주수웅/Final_Merged_Time_Corrected.xlsx'\n",
    "merged_df.to_excel(final_merged_path, index=False)\n",
    "\n",
    "print(f\"최종 파일이 저장되었습니다: {final_merged_path}\")\n"
   ]
  },
  {
   "cell_type": "code",
   "execution_count": 8,
   "id": "c53b0f7d",
   "metadata": {},
   "outputs": [
    {
     "name": "stdout",
     "output_type": "stream",
     "text": [
      "403번 지점 데이터가 저장되었습니다: ./Merged_Station_403.xlsx\n",
      "510번 지점 데이터가 저장되었습니다: ./Merged_Station_510.xlsx\n",
      "889번 지점 데이터가 저장되었습니다: ./Merged_Station_889.xlsx\n",
      "408번 지점 데이터가 저장되었습니다: ./Merged_Station_408.xlsx\n",
      "423번 지점 데이터가 저장되었습니다: ./Merged_Station_423.xlsx\n"
     ]
    }
   ],
   "source": [
    "import pandas as pd\n",
    "\n",
    "# 병합된 파일 불러오기\n",
    "merged_file_path = './Final_Merged_Time_Corrected.xlsx'\n",
    "merged_df = pd.read_excel(merged_file_path)\n",
    "\n",
    "# 지점별로 데이터 나누기\n",
    "unique_stations = merged_df['지점'].unique()\n",
    "\n",
    "for station in unique_stations:\n",
    "    station_df = merged_df[merged_df['지점'] == station]\n",
    "    output_path = f'./Merged_Station_{station}.xlsx'\n",
    "    station_df.to_excel(output_path, index=False)\n",
    "    print(f\"{station}번 지점 데이터가 저장되었습니다: {output_path}\")\n"
   ]
  },
  {
   "cell_type": "code",
   "execution_count": null,
   "id": "0410404f",
   "metadata": {},
   "outputs": [],
   "source": []
  }
 ],
 "metadata": {
  "kernelspec": {
   "display_name": "Python 3 (ipykernel)",
   "language": "python",
   "name": "python3"
  },
  "language_info": {
   "codemirror_mode": {
    "name": "ipython",
    "version": 3
   },
   "file_extension": ".py",
   "mimetype": "text/x-python",
   "name": "python",
   "nbconvert_exporter": "python",
   "pygments_lexer": "ipython3",
   "version": "3.12.2"
  }
 },
 "nbformat": 4,
 "nbformat_minor": 5
}
